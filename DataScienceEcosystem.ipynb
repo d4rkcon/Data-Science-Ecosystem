{
 "cells": [
  {
   "cell_type": "markdown",
   "id": "7f9ff402-e667-480d-9d07-557bae551681",
   "metadata": {},
   "source": [
    "# Data Science Tools and Ecosystem"
   ]
  },
  {
   "cell_type": "markdown",
   "id": "b1fdf7f6-8fac-4fee-ab96-83bbce15024a",
   "metadata": {},
   "source": [
    "In this notebook, Data Science Tools and Ecosystem are summarized."
   ]
  },
  {
   "cell_type": "markdown",
   "id": "24835ce1-944c-4d5c-8c08-7361394f9f84",
   "metadata": {},
   "source": [
    "**Objectives:**\n",
    "- List some languages of data science\n",
    "- List some commonly used libraries in data science\n",
    "- creating tables in a notebook\n",
    "- Evaluating arithmetic expressions"
   ]
  },
  {
   "cell_type": "markdown",
   "id": "19ea4edd-8c3e-47d2-9eb3-0c9407d2e73a",
   "metadata": {},
   "source": [
    "Some of the popular languages that Data Scientists use are:\n",
    "1. Python\n",
    "2. SQL\n",
    "3. R\n",
    "4. Julia"
   ]
  },
  {
   "cell_type": "markdown",
   "id": "f653853f-05de-44d5-acdd-ae87deb06dba",
   "metadata": {},
   "source": [
    "Some of the commonly used libraries used by Data Scientists include:\n",
    "1. Pandas\n",
    "2. NumPy\n",
    "3. Matplotlib\n",
    "4. Seaborn"
   ]
  },
  {
   "cell_type": "markdown",
   "id": "39b34076-d1ad-4050-b52f-1cf5edca3946",
   "metadata": {},
   "source": [
    "| Data Science Tools |\n",
    "| ------------------ |\n",
    "| VSCode |\n",
    "| Pycharm |\n",
    "| Spyder |\n",
    "| RStudio |"
   ]
  },
  {
   "cell_type": "markdown",
   "id": "2d0b370e-313f-4749-8a7a-3742712d776c",
   "metadata": {},
   "source": [
    "### Below are a few examples of evaluating arithmetic expressions in Python."
   ]
  },
  {
   "cell_type": "code",
   "execution_count": 10,
   "id": "da175edf-ab7e-419b-bfb1-0d55ac2d367a",
   "metadata": {},
   "outputs": [
    {
     "data": {
      "text/plain": [
       "17"
      ]
     },
     "execution_count": 10,
     "metadata": {},
     "output_type": "execute_result"
    }
   ],
   "source": [
    "# This a simple arithmetic expression to mutiply then add integers\n",
    "(3*4)+5"
   ]
  },
  {
   "cell_type": "code",
   "execution_count": 12,
   "id": "11d2f06d-655d-40c7-b160-77af6bd6d4ab",
   "metadata": {},
   "outputs": [
    {
     "data": {
      "text/plain": [
       "3.3333333333333335"
      ]
     },
     "execution_count": 12,
     "metadata": {},
     "output_type": "execute_result"
    }
   ],
   "source": [
    "# This will convert 200 minutes to hours by diving by 60\n",
    "200 / 60"
   ]
  },
  {
   "cell_type": "markdown",
   "id": "a3f2bce0-fe14-44eb-994c-287999c38ee3",
   "metadata": {},
   "source": [
    "## Author\n",
    "Mituka Bwanausi"
   ]
  },
  {
   "cell_type": "code",
   "execution_count": null,
   "id": "900d3cb4-fa42-4b4c-bd69-8a19c3d97012",
   "metadata": {},
   "outputs": [],
   "source": []
  }
 ],
 "metadata": {
  "kernelspec": {
   "display_name": "Python 3 (ipykernel)",
   "language": "python",
   "name": "python3"
  },
  "language_info": {
   "codemirror_mode": {
    "name": "ipython",
    "version": 3
   },
   "file_extension": ".py",
   "mimetype": "text/x-python",
   "name": "python",
   "nbconvert_exporter": "python",
   "pygments_lexer": "ipython3",
   "version": "3.12.7"
  }
 },
 "nbformat": 4,
 "nbformat_minor": 5
}
